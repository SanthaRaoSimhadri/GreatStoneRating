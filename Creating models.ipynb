{
 "cells": [
  {
   "cell_type": "code",
   "execution_count": 76,
   "metadata": {},
   "outputs": [],
   "source": [
    "import numpy as np\n",
    "import pandas as pd\n",
    "\n",
    "from sklearn.model_selection import train_test_split\n",
    "\n",
    "#importing support vector machine\n",
    "from sklearn.svm import SVC\n",
    "\n",
    "from scipy.stats import zscore\n",
    "\n",
    "#importing KFold & cross validation\n",
    "from sklearn.model_selection import KFold\n",
    "from sklearn.model_selection import cross_val_score\n",
    "from sklearn import metrics \n",
    "\n",
    "from sklearn.model_selection import RandomizedSearchCV\n",
    "from sklearn.model_selection import GridSearchCV\n",
    "\n",
    "from sklearn.ensemble import BaggingClassifier #Bagging\n",
    "from sklearn.tree import DecisionTreeClassifier #DecisionTree\n",
    "from sklearn.ensemble import AdaBoostClassifier #Boosting - Ada\n",
    "from sklearn.ensemble import GradientBoostingClassifier #Boosting - Gradient\n",
    "from sklearn.ensemble import RandomForestClassifier #RandomForest\n",
    "\n",
    "import matplotlib.pyplot as plt\n",
    "import seaborn as sns\n",
    "\n",
    "import statsmodels.api         as     sm\n",
    "from   statsmodels.formula.api import ols\n",
    "\n",
    "from statsmodels.stats.multicomp import pairwise_tukeyhsd\n",
    "\n",
    "from imblearn.over_sampling import SMOTE\n",
    "\n",
    "%matplotlib inline"
   ]
  },
  {
   "cell_type": "code",
   "execution_count": 30,
   "metadata": {},
   "outputs": [],
   "source": [
    "def show_results(y_test, y_predict) :\n",
    "    cm = metrics.confusion_matrix(y_test, y_predict, labels = [0, 1, 2, 3, 4, 5])\n",
    "    df_cm = pd.DataFrame(cm, index = [i for i in [\"0\", \"1\", \"2\", \"3\", \"4\", \"5\"]],\n",
    "                        columns = [i for i in [\"Predct 0\",\"Predict 1\", \"Predict 2\", \"Predict 3\", \"Predict 4\", \"Predict 5\" ]])\n",
    "    plt.figure(figsize = (17, 15))\n",
    "    sns.heatmap(df_cm, annot = True, linewidth = 0.1, linecolor = 'r', fmt = \"d\")\n",
    "    plt.show()\n",
    "    print(metrics.classification_report(y_test, y_predict, labels = [0,1, 2, 3, 4, 5]))"
   ]
  },
  {
   "cell_type": "code",
   "execution_count": 31,
   "metadata": {},
   "outputs": [
    {
     "name": "stdout",
     "output_type": "stream",
     "text": [
      "<class 'pandas.core.frame.DataFrame'>\n",
      "RangeIndex: 25000 entries, 0 to 24999\n",
      "Data columns (total 68 columns):\n",
      "fund_id                                25000 non-null object\n",
      "greatstone_rating                      20000 non-null float64\n",
      "fund_ratio_net_annual_expense          25000 non-null float64\n",
      "total_assets                           25000 non-null float64\n",
      "return_ytd                             25000 non-null float64\n",
      "years_up                               25000 non-null float64\n",
      "ytd_return_fund                        25000 non-null float64\n",
      "2014_return_fund                       25000 non-null float64\n",
      "fund_return_3months                    25000 non-null float64\n",
      "1_year_return_fund                     25000 non-null float64\n",
      "2015_return_fund                       25000 non-null float64\n",
      "2016_return_fund                       25000 non-null float64\n",
      "2011_return_fund                       25000 non-null float64\n",
      "2010_return_fund                       25000 non-null float64\n",
      "fund_return_3years                     25000 non-null float64\n",
      "2012_fund_return                       25000 non-null float64\n",
      "2018_return_fund                       25000 non-null float64\n",
      "2017_return_fund                       25000 non-null float64\n",
      "1_month_fund_return                    25000 non-null float64\n",
      "years_down                             25000 non-null float64\n",
      "2012_return_category                   25000 non-null float64\n",
      "2018_return_category                   25000 non-null float64\n",
      "pc_ratio                               25000 non-null float64\n",
      "2013_return_fund                       25000 non-null float64\n",
      "ytd_return_category                    25000 non-null float64\n",
      "pb_ratio                               25000 non-null float64\n",
      "2017_category_return                   25000 non-null float64\n",
      "pe_ratio                               25000 non-null float64\n",
      "3_months_return_category               25000 non-null float64\n",
      "stock_percent_of_portfolio             25000 non-null float64\n",
      "ps_ratio                               25000 non-null float64\n",
      "bond_percentage_of_porfolio            25000 non-null float64\n",
      "2010_return_category                   25000 non-null float64\n",
      "2013_category_return                   25000 non-null float64\n",
      "2014_category_return                   25000 non-null float64\n",
      "category_return_1year                  25000 non-null float64\n",
      "category_return_2015                   25000 non-null float64\n",
      "2016_return_category                   25000 non-null float64\n",
      "2011_return_category                   25000 non-null float64\n",
      "category_return_1month                 25000 non-null float64\n",
      "10yrs_sharpe_ratio_fund                25000 non-null float64\n",
      "10_years_alpha_fund                    25000 non-null float64\n",
      "10_years_return_fund                   25000 non-null float64\n",
      "10_years_beta_category                 25000 non-null float64\n",
      "10years_fund_std                       25000 non-null float64\n",
      "10_years_beta_fund                     25000 non-null float64\n",
      "10_years_return_category               25000 non-null float64\n",
      "3yrs_treynor_ratio_fund                25000 non-null float64\n",
      "3_years_alpha_fund                     25000 non-null float64\n",
      "3yrs_sharpe_ratio_fund                 25000 non-null float64\n",
      "3_years_return_mean_annual_fund        25000 non-null float64\n",
      "3yrs_treynor_ratio_category            25000 non-null float64\n",
      "3_years_return_mean_annual_category    25000 non-null float64\n",
      "3_years_return_category                25000 non-null float64\n",
      "3_years_alpha_category                 25000 non-null float64\n",
      "3yrs_sharpe_ratio_category             25000 non-null float64\n",
      "3years_category_std                    25000 non-null float64\n",
      "3years_fund_std                        25000 non-null float64\n",
      "5yrs_sharpe_ratio_fund                 25000 non-null float64\n",
      "5_years_alpha_fund                     25000 non-null float64\n",
      "5yrs_treynor_ratio_fund                25000 non-null float64\n",
      "5_years_return_mean_annual_fund        25000 non-null float64\n",
      "5_years_return_fund                    25000 non-null float64\n",
      "5yrs_sharpe_ratio_category             25000 non-null float64\n",
      "5_years_alpha_category                 25000 non-null float64\n",
      "5_years_return_mean_annual_category    25000 non-null float64\n",
      "5yrs_treynor_ratio_category            25000 non-null float64\n",
      "5_years_return_category                25000 non-null float64\n",
      "dtypes: float64(67), object(1)\n",
      "memory usage: 13.0+ MB\n"
     ]
    }
   ],
   "source": [
    "df = pd.read_csv('final_funds.csv')\n",
    "df.info()"
   ]
  },
  {
   "cell_type": "code",
   "execution_count": 32,
   "metadata": {},
   "outputs": [
    {
     "name": "stdout",
     "output_type": "stream",
     "text": [
      "<class 'pandas.core.frame.DataFrame'>\n",
      "Int64Index: 20000 entries, 1 to 24997\n",
      "Data columns (total 68 columns):\n",
      "fund_id                                20000 non-null object\n",
      "greatstone_rating                      20000 non-null int64\n",
      "fund_ratio_net_annual_expense          20000 non-null float64\n",
      "total_assets                           20000 non-null float64\n",
      "return_ytd                             20000 non-null float64\n",
      "years_up                               20000 non-null float64\n",
      "ytd_return_fund                        20000 non-null float64\n",
      "2014_return_fund                       20000 non-null float64\n",
      "fund_return_3months                    20000 non-null float64\n",
      "1_year_return_fund                     20000 non-null float64\n",
      "2015_return_fund                       20000 non-null float64\n",
      "2016_return_fund                       20000 non-null float64\n",
      "2011_return_fund                       20000 non-null float64\n",
      "2010_return_fund                       20000 non-null float64\n",
      "fund_return_3years                     20000 non-null float64\n",
      "2012_fund_return                       20000 non-null float64\n",
      "2018_return_fund                       20000 non-null float64\n",
      "2017_return_fund                       20000 non-null float64\n",
      "1_month_fund_return                    20000 non-null float64\n",
      "years_down                             20000 non-null float64\n",
      "2012_return_category                   20000 non-null float64\n",
      "2018_return_category                   20000 non-null float64\n",
      "pc_ratio                               20000 non-null float64\n",
      "2013_return_fund                       20000 non-null float64\n",
      "ytd_return_category                    20000 non-null float64\n",
      "pb_ratio                               20000 non-null float64\n",
      "2017_category_return                   20000 non-null float64\n",
      "pe_ratio                               20000 non-null float64\n",
      "3_months_return_category               20000 non-null float64\n",
      "stock_percent_of_portfolio             20000 non-null float64\n",
      "ps_ratio                               20000 non-null float64\n",
      "bond_percentage_of_porfolio            20000 non-null float64\n",
      "2010_return_category                   20000 non-null float64\n",
      "2013_category_return                   20000 non-null float64\n",
      "2014_category_return                   20000 non-null float64\n",
      "category_return_1year                  20000 non-null float64\n",
      "category_return_2015                   20000 non-null float64\n",
      "2016_return_category                   20000 non-null float64\n",
      "2011_return_category                   20000 non-null float64\n",
      "category_return_1month                 20000 non-null float64\n",
      "10yrs_sharpe_ratio_fund                20000 non-null float64\n",
      "10_years_alpha_fund                    20000 non-null float64\n",
      "10_years_return_fund                   20000 non-null float64\n",
      "10_years_beta_category                 20000 non-null float64\n",
      "10years_fund_std                       20000 non-null float64\n",
      "10_years_beta_fund                     20000 non-null float64\n",
      "10_years_return_category               20000 non-null float64\n",
      "3yrs_treynor_ratio_fund                20000 non-null float64\n",
      "3_years_alpha_fund                     20000 non-null float64\n",
      "3yrs_sharpe_ratio_fund                 20000 non-null float64\n",
      "3_years_return_mean_annual_fund        20000 non-null float64\n",
      "3yrs_treynor_ratio_category            20000 non-null float64\n",
      "3_years_return_mean_annual_category    20000 non-null float64\n",
      "3_years_return_category                20000 non-null float64\n",
      "3_years_alpha_category                 20000 non-null float64\n",
      "3yrs_sharpe_ratio_category             20000 non-null float64\n",
      "3years_category_std                    20000 non-null float64\n",
      "3years_fund_std                        20000 non-null float64\n",
      "5yrs_sharpe_ratio_fund                 20000 non-null float64\n",
      "5_years_alpha_fund                     20000 non-null float64\n",
      "5yrs_treynor_ratio_fund                20000 non-null float64\n",
      "5_years_return_mean_annual_fund        20000 non-null float64\n",
      "5_years_return_fund                    20000 non-null float64\n",
      "5yrs_sharpe_ratio_category             20000 non-null float64\n",
      "5_years_alpha_category                 20000 non-null float64\n",
      "5_years_return_mean_annual_category    20000 non-null float64\n",
      "5yrs_treynor_ratio_category            20000 non-null float64\n",
      "5_years_return_category                20000 non-null float64\n",
      "dtypes: float64(66), int64(1), object(1)\n",
      "memory usage: 10.5+ MB\n"
     ]
    },
    {
     "name": "stderr",
     "output_type": "stream",
     "text": [
      "C:\\Users\\home\\Anaconda3\\lib\\site-packages\\ipykernel_launcher.py:2: SettingWithCopyWarning: \n",
      "A value is trying to be set on a copy of a slice from a DataFrame.\n",
      "Try using .loc[row_indexer,col_indexer] = value instead\n",
      "\n",
      "See the caveats in the documentation: http://pandas.pydata.org/pandas-docs/stable/indexing.html#indexing-view-versus-copy\n",
      "  \n"
     ]
    }
   ],
   "source": [
    "final_df = df.dropna()\n",
    "final_df['greatstone_rating'] = final_df['greatstone_rating'].astype('int64')\n",
    "final_df.info()"
   ]
  },
  {
   "cell_type": "code",
   "execution_count": 33,
   "metadata": {},
   "outputs": [
    {
     "name": "stderr",
     "output_type": "stream",
     "text": [
      "C:\\Users\\home\\Anaconda3\\lib\\site-packages\\seaborn\\categorical.py:3666: UserWarning: The `factorplot` function has been renamed to `catplot`. The original name will be removed in a future release. Please update your code. Note that the default `kind` in `factorplot` (`'point'`) has changed `'strip'` in `catplot`.\n",
      "  warnings.warn(msg)\n"
     ]
    },
    {
     "data": {
      "text/plain": [
       "<seaborn.axisgrid.FacetGrid at 0x7664637550>"
      ]
     },
     "execution_count": 33,
     "metadata": {},
     "output_type": "execute_result"
    },
    {
     "data": {
      "image/png": "[encoded data removed]",
      "text/plain": [
       "<Figure size 360x360 with 1 Axes>"
      ]
     },
     "metadata": {
      "needs_background": "light"
     },
     "output_type": "display_data"
    }
   ],
   "source": [
    "plot = sns.factorplot(\"greatstone_rating\", data = final_df, kind = \"count\")\n",
    "plot.set_ylabels(\"Number of ratings\")"
   ]
  },
  {
   "cell_type": "code",
   "execution_count": 114,
   "metadata": {},
   "outputs": [],
   "source": [
    "X = final_df.drop(['fund_id', 'greatstone_rating'], axis = 1)\n",
    "y = final_df['greatstone_rating']"
   ]
  },
  {
   "cell_type": "code",
   "execution_count": 115,
   "metadata": {},
   "outputs": [],
   "source": [
    "X_train, X_test, y_train, y_test = train_test_split(X, y, test_size = 0.3, random_state = 1)"
   ]
  },
  {
   "cell_type": "code",
   "execution_count": 71,
   "metadata": {},
   "outputs": [
    {
     "name": "stdout",
     "output_type": "stream",
     "text": [
      "Fitting 10 folds for each of 6 candidates, totalling 60 fits\n"
     ]
    },
    {
     "name": "stderr",
     "output_type": "stream",
     "text": [
      "[Parallel(n_jobs=-1)]: Using backend LokyBackend with 4 concurrent workers.\n",
      "[Parallel(n_jobs=-1)]: Done  33 tasks      | elapsed:  7.1min\n",
      "[Parallel(n_jobs=-1)]: Done  60 out of  60 | elapsed: 11.1min finished\n"
     ]
    },
    {
     "data": {
      "text/plain": [
       "GridSearchCV(cv=10, error_score=nan,\n",
       "             estimator=RandomForestClassifier(bootstrap=True, ccp_alpha=0.0,\n",
       "                                              class_weight=None,\n",
       "                                              criterion='gini', max_depth=None,\n",
       "                                              max_features='auto',\n",
       "                                              max_leaf_nodes=None,\n",
       "                                              max_samples=None,\n",
       "                                              min_impurity_decrease=0.0,\n",
       "                                              min_impurity_split=None,\n",
       "                                              min_samples_leaf=1,\n",
       "                                              min_samples_split=2,\n",
       "                                              min_weight_fraction_leaf=0.0,\n",
       "                                              n_estimators=100, n_jobs=None,\n",
       "                                              oob_score=False,\n",
       "                                              random_state=None, verbose=0,\n",
       "                                              warm_start=False),\n",
       "             iid='deprecated', n_jobs=-1,\n",
       "             param_grid={'bootstrap': [True], 'criterion': ['entropy'],\n",
       "                         'min_samples_leaf': [20, 25, 30, 40, 50, 60],\n",
       "                         'n_estimators': [800]},\n",
       "             pre_dispatch='2*n_jobs', refit=True, return_train_score=True,\n",
       "             scoring='f1_macro', verbose=2)"
      ]
     },
     "execution_count": 71,
     "metadata": {},
     "output_type": "execute_result"
    }
   ],
   "source": [
    "rfc_model = RandomForestClassifier()\n",
    "rfc_params = {'bootstrap': [True],\n",
    " 'criterion' : ['entropy'],\n",
    " 'min_samples_leaf' : [20,25,30,40,50, 60],\n",
    " 'n_estimators': [800]}\n",
    "\n",
    "\n",
    "rfc_grid = GridSearchCV(estimator = rfc_model, param_grid=rfc_params,\n",
    "                               scoring='f1_macro', \n",
    "                              cv = 10, verbose=2, n_jobs=-1,\n",
    "                              return_train_score=True)\n",
    "rfc_grid.fit(X_train, y_train)"
   ]
  },
  {
   "cell_type": "code",
   "execution_count": 72,
   "metadata": {},
   "outputs": [
    {
     "data": {
      "text/plain": [
       "{'bootstrap': True,\n",
       " 'criterion': 'entropy',\n",
       " 'min_samples_leaf': 20,\n",
       " 'n_estimators': 800}"
      ]
     },
     "execution_count": 72,
     "metadata": {},
     "output_type": "execute_result"
    }
   ],
   "source": [
    "rfc_grid.best_params_"
   ]
  },
  {
   "cell_type": "code",
   "execution_count": 73,
   "metadata": {},
   "outputs": [],
   "source": [
    "rfc_model_final = RandomForestClassifier(n_estimators = 800, bootstrap = True, min_samples_leaf = 20, criterion = 'entropy')\n",
    "rfc_model_final.fit(X_train, y_train)\n",
    "y_predict_rfc = rfc_model_final.predict(X_test)"
   ]
  },
  {
   "cell_type": "code",
   "execution_count": 74,
   "metadata": {},
   "outputs": [
    {
     "data": {
      "image/png": "[encoded data removed]",
      "text/plain": [
       "<Figure size 1224x1080 with 2 Axes>"
      ]
     },
     "metadata": {
      "needs_background": "light"
     },
     "output_type": "display_data"
    },
    {
     "name": "stdout",
     "output_type": "stream",
     "text": [
      "              precision    recall  f1-score   support\n",
      "\n",
      "           0       0.99      0.94      0.97       400\n",
      "           1       0.85      0.41      0.56       396\n",
      "           2       0.68      0.69      0.69      1264\n",
      "           3       0.69      0.83      0.75      2064\n",
      "           4       0.69      0.69      0.69      1369\n",
      "           5       0.88      0.47      0.61       507\n",
      "\n",
      "    accuracy                           0.72      6000\n",
      "   macro avg       0.80      0.67      0.71      6000\n",
      "weighted avg       0.73      0.72      0.71      6000\n",
      "\n"
     ]
    }
   ],
   "source": [
    "show_results(y_test, y_predict_rfc)"
   ]
  },
  {
   "cell_type": "code",
   "execution_count": 43,
   "metadata": {},
   "outputs": [
    {
     "name": "stdout",
     "output_type": "stream",
     "text": [
      "[0.65782176 0.66980973 0.67631983 0.67998185 0.65495997 0.68928205\n",
      " 0.68137634 0.66974856 0.66459697 0.70755151]\n",
      "Accuracy: 67.514% (1.480%)\n"
     ]
    }
   ],
   "source": [
    "num_folds = 10\n",
    "seed = 1\n",
    "\n",
    "kfold = KFold(n_splits=num_folds, random_state=seed, shuffle = True)\n",
    "results = cross_val_score(rfc_model_final, X_train, y_train, cv = kfold, scoring='f1_macro')\n",
    "print(results)\n",
    "print(\"Accuracy: %.3f%% (%.3f%%)\" % (results.mean()*100.0, results.std()*100.0))"
   ]
  },
  {
   "cell_type": "code",
   "execution_count": 44,
   "metadata": {},
   "outputs": [
    {
     "data": {
      "text/plain": [
       "array([0.01235893, 0.01895639, 0.00600538, 0.00352436, 0.00573062,\n",
       "       0.00606641, 0.00632724, 0.00922527, 0.00880128, 0.01033492,\n",
       "       0.0022035 , 0.00364217, 0.10081462, 0.00491787, 0.0073318 ,\n",
       "       0.0084583 , 0.0050028 , 0.00322091, 0.00456494, 0.00982294,\n",
       "       0.00360781, 0.0040209 , 0.00855652, 0.00411685, 0.00888419,\n",
       "       0.00472452, 0.00848659, 0.0041842 , 0.00365625, 0.00313171,\n",
       "       0.00188009, 0.00446853, 0.00833682, 0.01366428, 0.00966337,\n",
       "       0.00724575, 0.00209009, 0.00735415, 0.02218946, 0.01676732,\n",
       "       0.03052246, 0.00070104, 0.00554098, 0.0058075 , 0.01303659,\n",
       "       0.04634775, 0.07341333, 0.06039959, 0.03605173, 0.01169512,\n",
       "       0.00110527, 0.01608988, 0.0098204 , 0.00431764, 0.00343563,\n",
       "       0.01567183, 0.0554143 , 0.05029944, 0.02919311, 0.03172679,\n",
       "       0.06202511, 0.00687161, 0.00847959, 0.00270338, 0.01278506,\n",
       "       0.02220482])"
      ]
     },
     "execution_count": 44,
     "metadata": {},
     "output_type": "execute_result"
    }
   ],
   "source": [
    "rfc_model_final.feature_importances_"
   ]
  },
  {
   "cell_type": "code",
   "execution_count": 65,
   "metadata": {},
   "outputs": [
    {
     "data": {
      "image/png": "[encoded data removed]",
      "text/plain": [
       "<Figure size 1296x1080 with 1 Axes>"
      ]
     },
     "metadata": {
      "needs_background": "light"
     },
     "output_type": "display_data"
    },
    {
     "data": {
      "text/plain": [
       "['fund_return_3years',\n",
       " '3_years_alpha_fund',\n",
       " '5_years_return_fund',\n",
       " '3yrs_sharpe_ratio_fund',\n",
       " '5yrs_sharpe_ratio_fund',\n",
       " '5_years_alpha_fund',\n",
       " '3yrs_treynor_ratio_fund',\n",
       " '3_years_return_mean_annual_fund',\n",
       " '5_years_return_mean_annual_fund',\n",
       " '10_years_return_fund',\n",
       " '5yrs_treynor_ratio_fund',\n",
       " '5_years_return_category',\n",
       " '10yrs_sharpe_ratio_fund',\n",
       " 'total_assets',\n",
       " '10_years_alpha_fund',\n",
       " '3_years_return_category',\n",
       " '3years_fund_std',\n",
       " 'category_return_1year',\n",
       " '10_years_return_category',\n",
       " '5yrs_treynor_ratio_category',\n",
       " 'fund_ratio_net_annual_expense',\n",
       " '3yrs_treynor_ratio_category',\n",
       " '2016_return_fund']"
      ]
     },
     "execution_count": 65,
     "metadata": {},
     "output_type": "execute_result"
    }
   ],
   "source": [
    "features = X.columns\n",
    "features_imp = rfc_model_final.feature_importances_\n",
    "features_sorted_indices = np.argsort(features_imp)[::-1][:23]\n",
    "\n",
    "#plot\n",
    "plt.figure(figsize=(18,15))\n",
    "plt.bar(range(len(features_sorted_indices)), features_imp[features_sorted_indices], color = 'b', align='center')\n",
    "plt.xticks(range(len(features_sorted_indices)), features[features_sorted_indices], rotation='vertical')\n",
    "plt.xlim([-1,len(features_sorted_indices)])\n",
    "plt.show()\n",
    "final_features = []\n",
    "for i in features_sorted_indices:\n",
    "    final_features.append(features[i])\n",
    "final_features"
   ]
  },
  {
   "cell_type": "code",
   "execution_count": 77,
   "metadata": {},
   "outputs": [
    {
     "name": "stdout",
     "output_type": "stream",
     "text": [
      "(40716, 23)\n",
      "(40716,)\n"
     ]
    }
   ],
   "source": [
    "X_final = X[final_features]\n",
    "sm = SMOTE()\n",
    "X_resampled, y_resampled = sm.fit_resample(X_final, y)\n",
    "print(X_resampled.shape)\n",
    "print(y_resampled.shape)"
   ]
  },
  {
   "cell_type": "code",
   "execution_count": 154,
   "metadata": {},
   "outputs": [],
   "source": [
    "X_final = X[final_features]\n",
    "X_train, X_test, y_train, y_test = train_test_split(X_final, y, test_size = 0.3, random_state = 1)"
   ]
  },
  {
   "cell_type": "code",
   "execution_count": 87,
   "metadata": {},
   "outputs": [
    {
     "name": "stdout",
     "output_type": "stream",
     "text": [
      "Fitting 10 folds for each of 4 candidates, totalling 40 fits\n"
     ]
    },
    {
     "name": "stderr",
     "output_type": "stream",
     "text": [
      "[Parallel(n_jobs=-1)]: Using backend LokyBackend with 4 concurrent workers.\n",
      "[Parallel(n_jobs=-1)]: Done  33 tasks      | elapsed: 15.8min\n",
      "[Parallel(n_jobs=-1)]: Done  40 out of  40 | elapsed: 18.2min finished\n"
     ]
    },
    {
     "data": {
      "text/plain": [
       "GridSearchCV(cv=10, error_score=nan,\n",
       "             estimator=RandomForestClassifier(bootstrap=True, ccp_alpha=0.0,\n",
       "                                              class_weight=None,\n",
       "                                              criterion='gini', max_depth=None,\n",
       "                                              max_features='auto',\n",
       "                                              max_leaf_nodes=None,\n",
       "                                              max_samples=None,\n",
       "                                              min_impurity_decrease=0.0,\n",
       "                                              min_impurity_split=None,\n",
       "                                              min_samples_leaf=1,\n",
       "                                              min_samples_split=2,\n",
       "                                              min_weight_fraction_leaf=0.0,\n",
       "                                              n_estimators=100, n_jobs=None,\n",
       "                                              oob_score=False,\n",
       "                                              random_state=None, verbose=0,\n",
       "                                              warm_start=False),\n",
       "             iid='deprecated', n_jobs=-1,\n",
       "             param_grid={'bootstrap': [True], 'criterion': ['entropy'],\n",
       "                         'max_depth': [5, 8, 15, 20], 'min_samples_leaf': [20],\n",
       "                         'n_estimators': [600]},\n",
       "             pre_dispatch='2*n_jobs', refit=True, return_train_score=True,\n",
       "             scoring='f1_macro', verbose=2)"
      ]
     },
     "execution_count": 87,
     "metadata": {},
     "output_type": "execute_result"
    }
   ],
   "source": [
    "rfc_model = RandomForestClassifier()\n",
    "rfc_params = {'bootstrap': [True],\n",
    " 'criterion' : ['entropy'],\n",
    " 'min_samples_leaf' : [20],\n",
    " 'n_estimators': [600],\n",
    " 'max_depth' : [5,8,15,20]\n",
    "             }\n",
    "\n",
    "\n",
    "rfc_grid = GridSearchCV(estimator = rfc_model, param_grid=rfc_params,\n",
    "                               scoring='f1_macro', \n",
    "                              cv = 10, verbose=2, n_jobs=-1,\n",
    "                              return_train_score=True)\n",
    "rfc_grid.fit(X_train, y_train)"
   ]
  },
  {
   "cell_type": "code",
   "execution_count": 88,
   "metadata": {},
   "outputs": [
    {
     "data": {
      "text/plain": [
       "{'bootstrap': True,\n",
       " 'criterion': 'entropy',\n",
       " 'max_depth': 20,\n",
       " 'min_samples_leaf': 20,\n",
       " 'n_estimators': 600}"
      ]
     },
     "execution_count": 88,
     "metadata": {},
     "output_type": "execute_result"
    }
   ],
   "source": [
    "rfc_grid.best_params_"
   ]
  },
  {
   "cell_type": "code",
   "execution_count": 155,
   "metadata": {},
   "outputs": [
    {
     "data": {
      "image/png": "[encoded data removed]",
      "text/plain": [
       "<Figure size 1224x1080 with 2 Axes>"
      ]
     },
     "metadata": {
      "needs_background": "light"
     },
     "output_type": "display_data"
    },
    {
     "name": "stdout",
     "output_type": "stream",
     "text": [
      "              precision    recall  f1-score   support\n",
      "\n",
      "           0       0.99      0.94      0.97       400\n",
      "           1       0.86      0.40      0.55       396\n",
      "           2       0.68      0.70      0.69      1264\n",
      "           3       0.69      0.83      0.75      2064\n",
      "           4       0.69      0.69      0.69      1369\n",
      "           5       0.87      0.47      0.61       507\n",
      "\n",
      "    accuracy                           0.72      6000\n",
      "   macro avg       0.80      0.67      0.71      6000\n",
      "weighted avg       0.73      0.72      0.71      6000\n",
      "\n"
     ]
    }
   ],
   "source": [
    "rfc_model_final = RandomForestClassifier(n_estimators = 600, bootstrap = True, min_samples_leaf = 20,\n",
    "                                          criterion = 'entropy')\n",
    "rfc_model_final.fit(X_train, y_train)\n",
    "y_predict_rfc = rfc_model_final.predict(X_test)\n",
    "show_results(y_test, y_predict_rfc)"
   ]
  },
  {
   "cell_type": "code",
   "execution_count": 156,
   "metadata": {},
   "outputs": [
    {
     "data": {
      "image/png": "[encoded data removed]",
      "text/plain": [
       "<Figure size 1224x1080 with 2 Axes>"
      ]
     },
     "metadata": {
      "needs_background": "light"
     },
     "output_type": "display_data"
    },
    {
     "name": "stdout",
     "output_type": "stream",
     "text": [
      "              precision    recall  f1-score   support\n",
      "\n",
      "           0       0.98      0.96      0.97       965\n",
      "           1       0.91      0.47      0.62       980\n",
      "           2       0.75      0.78      0.76      2966\n",
      "           3       0.75      0.88      0.81      4722\n",
      "           4       0.76      0.76      0.76      3245\n",
      "           5       0.90      0.54      0.68      1122\n",
      "\n",
      "    accuracy                           0.78     14000\n",
      "   macro avg       0.84      0.73      0.77     14000\n",
      "weighted avg       0.79      0.78      0.78     14000\n",
      "\n"
     ]
    }
   ],
   "source": [
    "y_predict_train = rfc_model_final.predict(X_train)\n",
    "show_results(y_train, y_predict_train)"
   ]
  },
  {
   "cell_type": "code",
   "execution_count": 157,
   "metadata": {},
   "outputs": [
    {
     "data": {
      "text/plain": [
       "(5000, 68)"
      ]
     },
     "execution_count": 157,
     "metadata": {},
     "output_type": "execute_result"
    }
   ],
   "source": [
    "target_data = df[df.isnull().any(axis=1)]\n",
    "target_data.shape"
   ]
  },
  {
   "cell_type": "code",
   "execution_count": 159,
   "metadata": {},
   "outputs": [],
   "source": [
    "X_target_data = target_data.drop(['fund_id', 'greatstone_rating'], axis = 1)"
   ]
  },
  {
   "cell_type": "code",
   "execution_count": 160,
   "metadata": {},
   "outputs": [
    {
     "data": {
      "text/plain": [
       "(5000, 23)"
      ]
     },
     "execution_count": 160,
     "metadata": {},
     "output_type": "execute_result"
    }
   ],
   "source": [
    "target_data = target_data[final_features]\n",
    "target_data.shape"
   ]
  },
  {
   "cell_type": "code",
   "execution_count": 161,
   "metadata": {},
   "outputs": [
    {
     "ename": "ValueError",
     "evalue": "Number of features of the model must match the input. Model n_features is 23 and input n_features is 66 ",
     "output_type": "error",
     "traceback": [
      "\u001b[1;31m---------------------------------------------------------------------------\u001b[0m",
      "\u001b[1;31mValueError\u001b[0m                                Traceback (most recent call last)",
      "\u001b[1;32m<ipython-input-161-52f2d1f222ad>\u001b[0m in \u001b[0;36m<module>\u001b[1;34m\u001b[0m\n\u001b[1;32m----> 1\u001b[1;33m \u001b[0my_target_predicitons\u001b[0m \u001b[1;33m=\u001b[0m \u001b[0mrfc_model_final\u001b[0m\u001b[1;33m.\u001b[0m\u001b[0mpredict\u001b[0m\u001b[1;33m(\u001b[0m\u001b[0mX_target_data\u001b[0m\u001b[1;33m)\u001b[0m\u001b[1;33m\u001b[0m\u001b[1;33m\u001b[0m\u001b[0m\n\u001b[0m",
      "\u001b[1;32m~\\Anaconda3\\lib\\site-packages\\sklearn\\ensemble\\_forest.py\u001b[0m in \u001b[0;36mpredict\u001b[1;34m(self, X)\u001b[0m\n\u001b[0;32m    610\u001b[0m             \u001b[0mThe\u001b[0m \u001b[0mpredicted\u001b[0m \u001b[0mclasses\u001b[0m\u001b[1;33m.\u001b[0m\u001b[1;33m\u001b[0m\u001b[1;33m\u001b[0m\u001b[0m\n\u001b[0;32m    611\u001b[0m         \"\"\"\n\u001b[1;32m--> 612\u001b[1;33m         \u001b[0mproba\u001b[0m \u001b[1;33m=\u001b[0m \u001b[0mself\u001b[0m\u001b[1;33m.\u001b[0m\u001b[0mpredict_proba\u001b[0m\u001b[1;33m(\u001b[0m\u001b[0mX\u001b[0m\u001b[1;33m)\u001b[0m\u001b[1;33m\u001b[0m\u001b[1;33m\u001b[0m\u001b[0m\n\u001b[0m\u001b[0;32m    613\u001b[0m \u001b[1;33m\u001b[0m\u001b[0m\n\u001b[0;32m    614\u001b[0m         \u001b[1;32mif\u001b[0m \u001b[0mself\u001b[0m\u001b[1;33m.\u001b[0m\u001b[0mn_outputs_\u001b[0m \u001b[1;33m==\u001b[0m \u001b[1;36m1\u001b[0m\u001b[1;33m:\u001b[0m\u001b[1;33m\u001b[0m\u001b[1;33m\u001b[0m\u001b[0m\n",
      "\u001b[1;32m~\\Anaconda3\\lib\\site-packages\\sklearn\\ensemble\\_forest.py\u001b[0m in \u001b[0;36mpredict_proba\u001b[1;34m(self, X)\u001b[0m\n\u001b[0;32m    654\u001b[0m         \u001b[0mcheck_is_fitted\u001b[0m\u001b[1;33m(\u001b[0m\u001b[0mself\u001b[0m\u001b[1;33m)\u001b[0m\u001b[1;33m\u001b[0m\u001b[1;33m\u001b[0m\u001b[0m\n\u001b[0;32m    655\u001b[0m         \u001b[1;31m# Check data\u001b[0m\u001b[1;33m\u001b[0m\u001b[1;33m\u001b[0m\u001b[1;33m\u001b[0m\u001b[0m\n\u001b[1;32m--> 656\u001b[1;33m         \u001b[0mX\u001b[0m \u001b[1;33m=\u001b[0m \u001b[0mself\u001b[0m\u001b[1;33m.\u001b[0m\u001b[0m_validate_X_predict\u001b[0m\u001b[1;33m(\u001b[0m\u001b[0mX\u001b[0m\u001b[1;33m)\u001b[0m\u001b[1;33m\u001b[0m\u001b[1;33m\u001b[0m\u001b[0m\n\u001b[0m\u001b[0;32m    657\u001b[0m \u001b[1;33m\u001b[0m\u001b[0m\n\u001b[0;32m    658\u001b[0m         \u001b[1;31m# Assign chunk of trees to jobs\u001b[0m\u001b[1;33m\u001b[0m\u001b[1;33m\u001b[0m\u001b[1;33m\u001b[0m\u001b[0m\n",
      "\u001b[1;32m~\\Anaconda3\\lib\\site-packages\\sklearn\\ensemble\\_forest.py\u001b[0m in \u001b[0;36m_validate_X_predict\u001b[1;34m(self, X)\u001b[0m\n\u001b[0;32m    410\u001b[0m         \u001b[0mcheck_is_fitted\u001b[0m\u001b[1;33m(\u001b[0m\u001b[0mself\u001b[0m\u001b[1;33m)\u001b[0m\u001b[1;33m\u001b[0m\u001b[1;33m\u001b[0m\u001b[0m\n\u001b[0;32m    411\u001b[0m \u001b[1;33m\u001b[0m\u001b[0m\n\u001b[1;32m--> 412\u001b[1;33m         \u001b[1;32mreturn\u001b[0m \u001b[0mself\u001b[0m\u001b[1;33m.\u001b[0m\u001b[0mestimators_\u001b[0m\u001b[1;33m[\u001b[0m\u001b[1;36m0\u001b[0m\u001b[1;33m]\u001b[0m\u001b[1;33m.\u001b[0m\u001b[0m_validate_X_predict\u001b[0m\u001b[1;33m(\u001b[0m\u001b[0mX\u001b[0m\u001b[1;33m,\u001b[0m \u001b[0mcheck_input\u001b[0m\u001b[1;33m=\u001b[0m\u001b[1;32mTrue\u001b[0m\u001b[1;33m)\u001b[0m\u001b[1;33m\u001b[0m\u001b[1;33m\u001b[0m\u001b[0m\n\u001b[0m\u001b[0;32m    413\u001b[0m \u001b[1;33m\u001b[0m\u001b[0m\n\u001b[0;32m    414\u001b[0m     \u001b[1;33m@\u001b[0m\u001b[0mproperty\u001b[0m\u001b[1;33m\u001b[0m\u001b[1;33m\u001b[0m\u001b[0m\n",
      "\u001b[1;32m~\\Anaconda3\\lib\\site-packages\\sklearn\\tree\\_classes.py\u001b[0m in \u001b[0;36m_validate_X_predict\u001b[1;34m(self, X, check_input)\u001b[0m\n\u001b[0;32m    389\u001b[0m                              \u001b[1;34m\"match the input. Model n_features is %s and \"\u001b[0m\u001b[1;33m\u001b[0m\u001b[1;33m\u001b[0m\u001b[0m\n\u001b[0;32m    390\u001b[0m                              \u001b[1;34m\"input n_features is %s \"\u001b[0m\u001b[1;33m\u001b[0m\u001b[1;33m\u001b[0m\u001b[0m\n\u001b[1;32m--> 391\u001b[1;33m                              % (self.n_features_, n_features))\n\u001b[0m\u001b[0;32m    392\u001b[0m \u001b[1;33m\u001b[0m\u001b[0m\n\u001b[0;32m    393\u001b[0m         \u001b[1;32mreturn\u001b[0m \u001b[0mX\u001b[0m\u001b[1;33m\u001b[0m\u001b[1;33m\u001b[0m\u001b[0m\n",
      "\u001b[1;31mValueError\u001b[0m: Number of features of the model must match the input. Model n_features is 23 and input n_features is 66 "
     ]
    }
   ],
   "source": [
    "y_target_predicitons = rfc_model_final.predict(X_target_data)"
   ]
  },
  {
   "cell_type": "code",
   "execution_count": 162,
   "metadata": {},
   "outputs": [
    {
     "name": "stdout",
     "output_type": "stream",
     "text": [
      "<class 'pandas.core.frame.DataFrame'>\n",
      "Int64Index: 5000 entries, 0 to 24999\n",
      "Data columns (total 25 columns):\n",
      "fund_return_3years                 5000 non-null float64\n",
      "3_years_alpha_fund                 5000 non-null float64\n",
      "5_years_return_fund                5000 non-null float64\n",
      "3yrs_sharpe_ratio_fund             5000 non-null float64\n",
      "5yrs_sharpe_ratio_fund             5000 non-null float64\n",
      "5_years_alpha_fund                 5000 non-null float64\n",
      "3yrs_treynor_ratio_fund            5000 non-null float64\n",
      "3_years_return_mean_annual_fund    5000 non-null float64\n",
      "5_years_return_mean_annual_fund    5000 non-null float64\n",
      "10_years_return_fund               5000 non-null float64\n",
      "5yrs_treynor_ratio_fund            5000 non-null float64\n",
      "5_years_return_category            5000 non-null float64\n",
      "10yrs_sharpe_ratio_fund            5000 non-null float64\n",
      "total_assets                       5000 non-null float64\n",
      "10_years_alpha_fund                5000 non-null float64\n",
      "3_years_return_category            5000 non-null float64\n",
      "3years_fund_std                    5000 non-null float64\n",
      "category_return_1year              5000 non-null float64\n",
      "10_years_return_category           5000 non-null float64\n",
      "5yrs_treynor_ratio_category        5000 non-null float64\n",
      "fund_ratio_net_annual_expense      5000 non-null float64\n",
      "3yrs_treynor_ratio_category        5000 non-null float64\n",
      "2016_return_fund                   5000 non-null float64\n",
      "greatstone_rating                  5000 non-null int64\n",
      "fund_id                            5000 non-null object\n",
      "dtypes: float64(23), int64(1), object(1)\n",
      "memory usage: 1015.6+ KB\n"
     ]
    }
   ],
   "source": [
    "target_data['greatstone_rating'] = y_target_predicitons\n",
    "target_data['fund_id'] = df[df.isnull().any(axis=1)]['fund_id']\n",
    "target_data.info()"
   ]
  },
  {
   "cell_type": "code",
   "execution_count": 163,
   "metadata": {},
   "outputs": [
    {
     "data": {
      "text/plain": [
       "(5000, 2)"
      ]
     },
     "execution_count": 163,
     "metadata": {},
     "output_type": "execute_result"
    }
   ],
   "source": [
    "target_results = target_data[['fund_id', 'greatstone_rating']]\n",
    "target_results.shape"
   ]
  },
  {
   "cell_type": "code",
   "execution_count": 164,
   "metadata": {},
   "outputs": [],
   "source": [
    "def get_rating(fund_id) :\n",
    "    index = target_results[target_results['fund_id'] == fund_id].index.values[0]\n",
    "    return target_results['greatstone_rating'][index]"
   ]
  },
  {
   "cell_type": "code",
   "execution_count": 165,
   "metadata": {},
   "outputs": [],
   "source": [
    "def update_solution(mysolution) :\n",
    "    for index, id in enumerate(mysolution['fund_id']) :\n",
    "        mysolution['greatstone_rating'][index] = get_rating(id)"
   ]
  },
  {
   "cell_type": "code",
   "execution_count": 166,
   "metadata": {},
   "outputs": [
    {
     "name": "stdout",
     "output_type": "stream",
     "text": [
      "<class 'pandas.core.frame.DataFrame'>\n",
      "RangeIndex: 5000 entries, 0 to 4999\n",
      "Data columns (total 2 columns):\n",
      "fund_id              5000 non-null object\n",
      "greatstone_rating    0 non-null float64\n",
      "dtypes: float64(1), object(1)\n",
      "memory usage: 78.2+ KB\n"
     ]
    },
    {
     "name": "stderr",
     "output_type": "stream",
     "text": [
      "C:\\Users\\home\\Anaconda3\\lib\\site-packages\\ipykernel_launcher.py:3: SettingWithCopyWarning: \n",
      "A value is trying to be set on a copy of a slice from a DataFrame\n",
      "\n",
      "See the caveats in the documentation: http://pandas.pydata.org/pandas-docs/stable/indexing.html#indexing-view-versus-copy\n",
      "  This is separate from the ipykernel package so we can avoid doing imports until\n"
     ]
    },
    {
     "name": "stdout",
     "output_type": "stream",
     "text": [
      "<class 'pandas.core.frame.DataFrame'>\n",
      "RangeIndex: 5000 entries, 0 to 4999\n",
      "Data columns (total 2 columns):\n",
      "fund_id              5000 non-null object\n",
      "greatstone_rating    5000 non-null float64\n",
      "dtypes: float64(1), object(1)\n",
      "memory usage: 78.2+ KB\n"
     ]
    }
   ],
   "source": [
    "submission_df = pd.read_csv('sample_submission.csv')\n",
    "submission_df.info()\n",
    "update_solution(submission_df)\n",
    "submission_df.info()"
   ]
  },
  {
   "cell_type": "code",
   "execution_count": 167,
   "metadata": {},
   "outputs": [
    {
     "data": {
      "text/plain": [
       "array([4, 3, 0, 2, 1, 5], dtype=int64)"
      ]
     },
     "execution_count": 167,
     "metadata": {},
     "output_type": "execute_result"
    }
   ],
   "source": [
    "submission_df['greatstone_rating'] = submission_df['greatstone_rating'].astype('int32')\n",
    "submission_df['greatstone_rating'].unique()"
   ]
  },
  {
   "cell_type": "code",
   "execution_count": 168,
   "metadata": {},
   "outputs": [
    {
     "name": "stdout",
     "output_type": "stream",
     "text": [
      "<class 'pandas.core.frame.DataFrame'>\n",
      "RangeIndex: 5000 entries, 0 to 4999\n",
      "Data columns (total 2 columns):\n",
      "fund_id              5000 non-null object\n",
      "greatstone_rating    5000 non-null int64\n",
      "dtypes: int64(1), object(1)\n",
      "memory usage: 78.2+ KB\n"
     ]
    }
   ],
   "source": [
    "submission_df.to_csv('submission_file.csv', index = False)\n",
    "results_uploaded = pd.read_csv('submission_file.csv')\n",
    "results_uploaded.info()"
   ]
  },
  {
   "cell_type": "code",
   "execution_count": null,
   "metadata": {},
   "outputs": [],
   "source": []
  },
  {
   "cell_type": "code",
   "execution_count": null,
   "metadata": {},
   "outputs": [],
   "source": []
  },
  {
   "cell_type": "code",
   "execution_count": null,
   "metadata": {},
   "outputs": [],
   "source": []
  },
  {
   "cell_type": "code",
   "execution_count": null,
   "metadata": {},
   "outputs": [],
   "source": []
  },
  {
   "cell_type": "code",
   "execution_count": null,
   "metadata": {},
   "outputs": [],
   "source": []
  },
  {
   "cell_type": "code",
   "execution_count": null,
   "metadata": {},
   "outputs": [],
   "source": []
  }
 ],
 "metadata": {
  "kernelspec": {
   "display_name": "Python 3",
   "language": "python",
   "name": "python3"
  },
  "language_info": {
   "codemirror_mode": {
    "name": "ipython",
    "version": 3
   },
   "file_extension": ".py",
   "mimetype": "text/x-python",
   "name": "python",
   "nbconvert_exporter": "python",
   "pygments_lexer": "ipython3",
   "version": "3.7.3"
  }
 },
 "nbformat": 4,
 "nbformat_minor": 2
}
